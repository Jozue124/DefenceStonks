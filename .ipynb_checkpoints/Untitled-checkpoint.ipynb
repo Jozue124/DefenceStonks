{
 "cells": [
  {
   "cell_type": "code",
   "execution_count": 7,
   "id": "6f17f93e",
   "metadata": {},
   "outputs": [],
   "source": [
    "import pandas\n",
    "import os\n",
    "import matplotlib as plt"
   ]
  },
  {
   "cell_type": "code",
   "execution_count": 8,
   "id": "ee3249ef",
   "metadata": {},
   "outputs": [],
   "source": [
    "##Start by reading in files from csv"
   ]
  },
  {
   "cell_type": "code",
   "execution_count": 3,
   "id": "3a36674d",
   "metadata": {},
   "outputs": [],
   "source": [
    "os.chdir(\"archive\")\n",
    "df = pandas.read_csv(\"VirTra Historical Data.csv\")\n",
    "#for i in current dir \n",
    "    # read in csv we gonna combine them l8r"
   ]
  },
  {
   "cell_type": "code",
   "execution_count": 24,
   "id": "2b691a61",
   "metadata": {},
   "outputs": [
    {
     "data": {
      "text/html": [
       "<div>\n",
       "<style scoped>\n",
       "    .dataframe tbody tr th:only-of-type {\n",
       "        vertical-align: middle;\n",
       "    }\n",
       "\n",
       "    .dataframe tbody tr th {\n",
       "        vertical-align: top;\n",
       "    }\n",
       "\n",
       "    .dataframe thead th {\n",
       "        text-align: right;\n",
       "    }\n",
       "</style>\n",
       "<table border=\"1\" class=\"dataframe\">\n",
       "  <thead>\n",
       "    <tr style=\"text-align: right;\">\n",
       "      <th></th>\n",
       "      <th>Date</th>\n",
       "      <th>Open</th>\n",
       "      <th>High</th>\n",
       "      <th>Low</th>\n",
       "      <th>Close</th>\n",
       "      <th>Adj Close</th>\n",
       "      <th>Volume</th>\n",
       "      <th>company</th>\n",
       "    </tr>\n",
       "  </thead>\n",
       "  <tbody>\n",
       "    <tr>\n",
       "      <th>0</th>\n",
       "      <td>2015-01-02</td>\n",
       "      <td>2.66</td>\n",
       "      <td>2.8800</td>\n",
       "      <td>2.66</td>\n",
       "      <td>2.88</td>\n",
       "      <td>2.88</td>\n",
       "      <td>16995</td>\n",
       "      <td>VirTra</td>\n",
       "    </tr>\n",
       "    <tr>\n",
       "      <th>1</th>\n",
       "      <td>2015-01-05</td>\n",
       "      <td>2.90</td>\n",
       "      <td>2.9000</td>\n",
       "      <td>2.72</td>\n",
       "      <td>2.74</td>\n",
       "      <td>2.74</td>\n",
       "      <td>2615</td>\n",
       "      <td>VirTra</td>\n",
       "    </tr>\n",
       "    <tr>\n",
       "      <th>2</th>\n",
       "      <td>2015-01-06</td>\n",
       "      <td>2.72</td>\n",
       "      <td>2.8800</td>\n",
       "      <td>2.70</td>\n",
       "      <td>2.80</td>\n",
       "      <td>2.80</td>\n",
       "      <td>17730</td>\n",
       "      <td>VirTra</td>\n",
       "    </tr>\n",
       "    <tr>\n",
       "      <th>3</th>\n",
       "      <td>2015-01-07</td>\n",
       "      <td>2.80</td>\n",
       "      <td>2.8000</td>\n",
       "      <td>2.70</td>\n",
       "      <td>2.80</td>\n",
       "      <td>2.80</td>\n",
       "      <td>32340</td>\n",
       "      <td>VirTra</td>\n",
       "    </tr>\n",
       "    <tr>\n",
       "      <th>4</th>\n",
       "      <td>2015-01-08</td>\n",
       "      <td>2.78</td>\n",
       "      <td>2.8200</td>\n",
       "      <td>2.70</td>\n",
       "      <td>2.70</td>\n",
       "      <td>2.70</td>\n",
       "      <td>30255</td>\n",
       "      <td>VirTra</td>\n",
       "    </tr>\n",
       "    <tr>\n",
       "      <th>...</th>\n",
       "      <td>...</td>\n",
       "      <td>...</td>\n",
       "      <td>...</td>\n",
       "      <td>...</td>\n",
       "      <td>...</td>\n",
       "      <td>...</td>\n",
       "      <td>...</td>\n",
       "      <td>...</td>\n",
       "    </tr>\n",
       "    <tr>\n",
       "      <th>1855</th>\n",
       "      <td>2022-05-16</td>\n",
       "      <td>5.00</td>\n",
       "      <td>5.2329</td>\n",
       "      <td>5.00</td>\n",
       "      <td>5.03</td>\n",
       "      <td>5.03</td>\n",
       "      <td>30500</td>\n",
       "      <td>VirTra</td>\n",
       "    </tr>\n",
       "    <tr>\n",
       "      <th>1856</th>\n",
       "      <td>2022-05-17</td>\n",
       "      <td>5.04</td>\n",
       "      <td>5.1250</td>\n",
       "      <td>5.01</td>\n",
       "      <td>5.04</td>\n",
       "      <td>5.04</td>\n",
       "      <td>7900</td>\n",
       "      <td>VirTra</td>\n",
       "    </tr>\n",
       "    <tr>\n",
       "      <th>1857</th>\n",
       "      <td>2022-05-18</td>\n",
       "      <td>5.00</td>\n",
       "      <td>5.1823</td>\n",
       "      <td>5.00</td>\n",
       "      <td>5.00</td>\n",
       "      <td>5.00</td>\n",
       "      <td>8800</td>\n",
       "      <td>VirTra</td>\n",
       "    </tr>\n",
       "    <tr>\n",
       "      <th>1858</th>\n",
       "      <td>2022-05-19</td>\n",
       "      <td>5.00</td>\n",
       "      <td>5.0900</td>\n",
       "      <td>4.72</td>\n",
       "      <td>4.93</td>\n",
       "      <td>4.93</td>\n",
       "      <td>38300</td>\n",
       "      <td>VirTra</td>\n",
       "    </tr>\n",
       "    <tr>\n",
       "      <th>1859</th>\n",
       "      <td>2022-05-20</td>\n",
       "      <td>5.00</td>\n",
       "      <td>5.0200</td>\n",
       "      <td>4.80</td>\n",
       "      <td>4.95</td>\n",
       "      <td>4.95</td>\n",
       "      <td>42500</td>\n",
       "      <td>VirTra</td>\n",
       "    </tr>\n",
       "  </tbody>\n",
       "</table>\n",
       "<p>1860 rows × 8 columns</p>\n",
       "</div>"
      ],
      "text/plain": [
       "            Date  Open    High   Low  Close  Adj Close  Volume company\n",
       "0     2015-01-02  2.66  2.8800  2.66   2.88       2.88   16995  VirTra\n",
       "1     2015-01-05  2.90  2.9000  2.72   2.74       2.74    2615  VirTra\n",
       "2     2015-01-06  2.72  2.8800  2.70   2.80       2.80   17730  VirTra\n",
       "3     2015-01-07  2.80  2.8000  2.70   2.80       2.80   32340  VirTra\n",
       "4     2015-01-08  2.78  2.8200  2.70   2.70       2.70   30255  VirTra\n",
       "...          ...   ...     ...   ...    ...        ...     ...     ...\n",
       "1855  2022-05-16  5.00  5.2329  5.00   5.03       5.03   30500  VirTra\n",
       "1856  2022-05-17  5.04  5.1250  5.01   5.04       5.04    7900  VirTra\n",
       "1857  2022-05-18  5.00  5.1823  5.00   5.00       5.00    8800  VirTra\n",
       "1858  2022-05-19  5.00  5.0900  4.72   4.93       4.93   38300  VirTra\n",
       "1859  2022-05-20  5.00  5.0200  4.80   4.95       4.95   42500  VirTra\n",
       "\n",
       "[1860 rows x 8 columns]"
      ]
     },
     "execution_count": 24,
     "metadata": {},
     "output_type": "execute_result"
    }
   ],
   "source": [
    "company = [\"VirTra\"]*df['Date'].size\n",
    "df[\"company\"] = company\n",
    "df"
   ]
  },
  {
   "cell_type": "code",
   "execution_count": 11,
   "id": "8f96844a",
   "metadata": {},
   "outputs": [
    {
     "data": {
      "text/plain": [
       "<AxesSubplot:xlabel='Date'>"
      ]
     },
     "execution_count": 11,
     "metadata": {},
     "output_type": "execute_result"
    },
    {
     "data": {
      "image/png": "[encoded data removed]",
      "text/plain": [
       "<Figure size 432x288 with 1 Axes>"
      ]
     },
     "metadata": {
      "needs_background": "light"
     },
     "output_type": "display_data"
    }
   ],
   "source": [
    "df.plot(x='Date', y='Close')"
   ]
  },
  {
   "cell_type": "code",
   "execution_count": 14,
   "id": "de590a1b",
   "metadata": {},
   "outputs": [
    {
     "data": {
      "text/plain": [
       "<AxesSubplot:xlabel='Date'>"
      ]
     },
     "execution_count": 14,
     "metadata": {},
     "output_type": "execute_result"
    },
    {
     "data": {
      "image/png": "[encoded data removed]",
      "text/plain": [
       "<Figure size 432x288 with 1 Axes>"
      ]
     },
     "metadata": {
      "needs_background": "light"
     },
     "output_type": "display_data"
    }
   ],
   "source": [
    "df.plot(x='Date', y='Low')"
   ]
  },
  {
   "cell_type": "code",
   "execution_count": null,
   "id": "d770f329",
   "metadata": {},
   "outputs": [],
   "source": []
  }
 ],
 "metadata": {
  "kernelspec": {
   "display_name": "Python 3 (ipykernel)",
   "language": "python",
   "name": "python3"
  },
  "language_info": {
   "codemirror_mode": {
    "name": "ipython",
    "version": 3
   },
   "file_extension": ".py",
   "mimetype": "text/x-python",
   "name": "python",
   "nbconvert_exporter": "python",
   "pygments_lexer": "ipython3",
   "version": "3.9.10"
  }
 },
 "nbformat": 4,
 "nbformat_minor": 5
}
